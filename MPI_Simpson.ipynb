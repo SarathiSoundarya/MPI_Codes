{
  "nbformat": 4,
  "nbformat_minor": 0,
  "metadata": {
    "colab": {
      "provenance": [],
      "authorship_tag": "ABX9TyNxk7bjToHGigncEIGg4e9B",
      "include_colab_link": true
    },
    "kernelspec": {
      "name": "python3",
      "display_name": "Python 3"
    },
    "language_info": {
      "name": "python"
    }
  },
  "cells": [
    {
      "cell_type": "markdown",
      "metadata": {
        "id": "view-in-github",
        "colab_type": "text"
      },
      "source": [
        "<a href=\"https://colab.research.google.com/github/SarathiSoundarya/MPI_Codes/blob/main/MPI_Simpson.ipynb\" target=\"_parent\"><img src=\"https://colab.research.google.com/assets/colab-badge.svg\" alt=\"Open In Colab\"/></a>"
      ]
    },
    {
      "cell_type": "code",
      "execution_count": 23,
      "metadata": {
        "id": "sDNO1S_qsKAz",
        "colab": {
          "base_uri": "https://localhost:8080/"
        },
        "outputId": "839294e8-a4f0-4337-c708-54fbb40d3e0a"
      },
      "outputs": [
        {
          "output_type": "stream",
          "name": "stdout",
          "text": [
            "Overwriting simps.c\n"
          ]
        }
      ],
      "source": [
        "%%writefile simps.c\n",
        "#include<stdio.h>\n",
        "#include<stdlib.h>\n",
        "#include<mpi.h>\n",
        "\n",
        "double eval(float x)\n",
        "{\n",
        "    return x*x; //the function to evaluate\n",
        "}\n",
        "float simpson(float *x, int localn)\n",
        "{\n",
        "    float localsum=0;\n",
        "    localsum+=eval(x[0])+eval(x[localn-1]);\n",
        "    for(int i=1;i<localn-1;i++)\n",
        "    {\n",
        "        if(i%2==0)\n",
        "        {\n",
        "          localsum+=(2*eval(x[i]));\n",
        "        }\n",
        "     else\n",
        "     {\n",
        "         localsum+=(4*eval(x[i]));\n",
        "     }\n",
        "    }\n",
        " return localsum;\n",
        "}\n",
        "int main(int argc, char ** argv)\n",
        "{\n",
        " float  *x, totalsum,xo=0, xn=2, h=0.1;\n",
        " int i,n,index,rank,size,eleft;\n",
        " MPI_Status status;\n",
        " MPI_Init(&argc,&argv);\n",
        " MPI_Comm_rank(MPI_COMM_WORLD,&rank);\n",
        " MPI_Comm_size(MPI_COMM_WORLD,&size);\n",
        " int localn;\n",
        " float localsum=0;\n",
        " if(rank==0)\n",
        " {\n",
        "  n=((xn-xo)/h)+1;\n",
        "  x=(float*)malloc(n*sizeof(float));\n",
        "  for(int i=0;i<=n;i++)\n",
        "  { \n",
        "      x[i-1]=xo+(i*h); \n",
        "  }\n",
        "  localn=n/size;\n",
        "  for (i=1;i<size-1;i++)\n",
        "  { \n",
        "      MPI_Send(&localn,1,MPI_INT,i,0,MPI_COMM_WORLD);\n",
        "      index=i*localn;\n",
        "      MPI_Send(&x[index],localn,MPI_FLOAT,i,0,MPI_COMM_WORLD);\n",
        "  }\n",
        "  index=i*localn;\n",
        "  eleft=n-index;\n",
        "  MPI_Send(&eleft,1,MPI_INT,i,0,MPI_COMM_WORLD);\n",
        "  MPI_Send(&x[index],eleft,MPI_INT,i,0,MPI_COMM_WORLD);\n",
        "  localsum=simpson(x,localn);\n",
        " }\n",
        " else\n",
        " {\n",
        " MPI_Recv(&localn,1,MPI_INT,0,0,MPI_COMM_WORLD,MPI_STATUS_IGNORE);\n",
        " float xl[localn];\n",
        " MPI_Recv(&xl,localn,MPI_FLOAT,0,0,MPI_COMM_WORLD,MPI_STATUS_IGNORE);\n",
        " localsum=simpson(xl,localn);\n",
        " }\n",
        " printf(\"localsum by Simpson's rule for rank %d is: %f \\n\",rank,localsum);\n",
        " MPI_Barrier(MPI_COMM_WORLD);\n",
        " MPI_Reduce(&localsum,&totalsum,1,MPI_FLOAT,MPI_SUM,0,MPI_COMM_WORLD);\n",
        " if(rank==0)\n",
        " {\n",
        "     totalsum*=(h/3);\n",
        "     printf(\"\\ntotalsum is: %f\",totalsum);\n",
        " }\n",
        " MPI_Finalize();\n",
        " return 0;\n",
        "}"
      ]
    },
    {
      "cell_type": "code",
      "source": [
        "%%shell\n",
        "mpicc simps.c -o simps\n",
        "mpirun --allow-run-as-root -np 4 ./simps"
      ],
      "metadata": {
        "colab": {
          "base_uri": "https://localhost:8080/"
        },
        "id": "UDYV2KwVIzQC",
        "outputId": "5924569f-a7fc-4279-f1dd-9477c6ce5a94"
      },
      "execution_count": 25,
      "outputs": [
        {
          "output_type": "stream",
          "name": "stdout",
          "text": [
            "localsum by Simpson's rule for rank 0 is: 1.240000 \n",
            "localsum by Simpson's rule for rank 3 is: 47.450001 \n",
            "localsum by Simpson's rule for rank 2 is: 20.440001 \n",
            "localsum by Simpson's rule for rank 1 is: 7.840000 \n",
            "\n",
            "totalsum is: 2.565667"
          ]
        },
        {
          "output_type": "execute_result",
          "data": {
            "text/plain": []
          },
          "metadata": {},
          "execution_count": 25
        }
      ]
    }
  ]
}